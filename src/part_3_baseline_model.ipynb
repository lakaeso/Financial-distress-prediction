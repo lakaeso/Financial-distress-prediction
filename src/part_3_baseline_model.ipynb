{
 "cells": [
  {
   "cell_type": "code",
   "execution_count": 21,
   "id": "20eef8b0",
   "metadata": {},
   "outputs": [],
   "source": [
    "import pandas as pd\n",
    "\n",
    "import numpy as np\n",
    "\n",
    "from sklearn.model_selection import StratifiedKFold, GridSearchCV\n",
    "from sklearn.linear_model import LogisticRegression\n",
    "from sklearn.tree import DecisionTreeClassifier\n",
    "from sklearn.ensemble import RandomForestClassifier\n",
    "from sklearn.model_selection import cross_val_predict\n",
    "from sklearn.metrics import accuracy_score, precision_score, recall_score, f1_score\n",
    "from sklearn.preprocessing import StandardScaler\n",
    "from sklearn.impute import SimpleImputer\n",
    "from sklearn.pipeline import Pipeline\n",
    "from sklearn.svm import SVC\n",
    "\n",
    "\n",
    "from utils import remove_top_quantile\n",
    "\n",
    "\n",
    "import pickle"
   ]
  },
  {
   "cell_type": "markdown",
   "id": "1c4f85b0",
   "metadata": {},
   "source": [
    "Below is a data loading/transformation pipeline which will be also used in notebook part 4."
   ]
  },
  {
   "cell_type": "code",
   "execution_count": 22,
   "id": "71b6587b",
   "metadata": {},
   "outputs": [],
   "source": [
    "# load data\n",
    "df = pd.read_csv('../data/GiveMeSomeCredit-training.csv')\n",
    "df = df.drop([\"Unnamed: 0\"], axis=1)\n",
    "\n",
    "# impute missing values\n",
    "imputer = SimpleImputer(strategy='median')\n",
    "\n",
    "columns = df.columns\n",
    "index = df.index    \n",
    "df = pd.DataFrame(imputer.fit_transform(df))\n",
    "df.columns = columns\n",
    "df.index = index\n",
    "\n",
    "# outlier removal\n",
    "df = remove_top_quantile(df, \"RevolvingUtilizationOfUnsecuredLines\", 0.99)\n",
    "df = remove_top_quantile(df, \"DebtRatio\", 0.99)\n",
    "df = remove_top_quantile(df, \"MonthlyIncome\", 0.99)\n",
    "\n",
    "# feature engineering\n",
    "def f(a):\n",
    "    # never late\n",
    "    if a[\"NumberOfTime30-59DaysPastDueNotWorse\"] == 0 and \\\n",
    "        a[\"NumberOfTime60-89DaysPastDueNotWorse\"] == 0 and \\\n",
    "        a[\"NumberOfTimes90DaysLate\"] == 0:\n",
    "            return 0\n",
    "    # 30-59 late\n",
    "    if a[\"NumberOfTime30-59DaysPastDueNotWorse\"] != 0 and \\\n",
    "        a[\"NumberOfTime60-89DaysPastDueNotWorse\"] == 0 and \\\n",
    "        a[\"NumberOfTimes90DaysLate\"] == 0:\n",
    "            return 1\n",
    "    # 60-89 late\n",
    "    if a[\"NumberOfTime30-59DaysPastDueNotWorse\"] != 0 and \\\n",
    "        a[\"NumberOfTime60-89DaysPastDueNotWorse\"] != 0 and \\\n",
    "        a[\"NumberOfTimes90DaysLate\"] == 0:\n",
    "            return 2\n",
    "    # 90+ late\n",
    "    return 3\n",
    "\n",
    "\n",
    "df[\"PastDueSevereness\"] = df.apply(f, axis=1)\n",
    "\n",
    "# drop\n",
    "df = df.drop([\"NumberOfTime30-59DaysPastDueNotWorse\", \"NumberOfTime30-59DaysPastDueNotWorse\", \"NumberOfTime30-59DaysPastDueNotWorse\"], axis=1)\n",
    "\n",
    "# scaling\n",
    "scaler = StandardScaler()\n",
    "df[[\n",
    "    'age',\n",
    "    'NumberOfDependents',\n",
    "    'MonthlyIncome',\n",
    "    'DebtRatio', \n",
    "    'RevolvingUtilizationOfUnsecuredLines', \n",
    "    'NumberOfOpenCreditLinesAndLoans', \n",
    "    'NumberRealEstateLoansOrLines'\n",
    "]] = scaler.fit_transform(\n",
    "    df[[\n",
    "        'age',\n",
    "        'NumberOfDependents',\n",
    "        'MonthlyIncome',\n",
    "        'DebtRatio', \n",
    "        'RevolvingUtilizationOfUnsecuredLines', \n",
    "        'NumberOfOpenCreditLinesAndLoans', \n",
    "        'NumberRealEstateLoansOrLines'\n",
    "    ]])\n"
   ]
  },
  {
   "cell_type": "code",
   "execution_count": 23,
   "id": "a216637d",
   "metadata": {},
   "outputs": [
    {
     "name": "stdout",
     "output_type": "stream",
     "text": [
      "<class 'pandas.core.frame.DataFrame'>\n",
      "Index: 135840 entries, 0 to 139998\n",
      "Data columns (total 11 columns):\n",
      " #   Column                                Non-Null Count   Dtype  \n",
      "---  ------                                --------------   -----  \n",
      " 0   SeriousDlqin2yrs                      135840 non-null  float64\n",
      " 1   RevolvingUtilizationOfUnsecuredLines  135840 non-null  float64\n",
      " 2   age                                   135840 non-null  float64\n",
      " 3   DebtRatio                             135840 non-null  float64\n",
      " 4   MonthlyIncome                         135840 non-null  float64\n",
      " 5   NumberOfOpenCreditLinesAndLoans       135840 non-null  float64\n",
      " 6   NumberOfTimes90DaysLate               135840 non-null  float64\n",
      " 7   NumberRealEstateLoansOrLines          135840 non-null  float64\n",
      " 8   NumberOfTime60-89DaysPastDueNotWorse  135840 non-null  float64\n",
      " 9   NumberOfDependents                    135840 non-null  float64\n",
      " 10  PastDueSevereness                     135840 non-null  int64  \n",
      "dtypes: float64(10), int64(1)\n",
      "memory usage: 12.4 MB\n"
     ]
    }
   ],
   "source": [
    "df.info()"
   ]
  },
  {
   "cell_type": "code",
   "execution_count": 24,
   "id": "72d9ec96",
   "metadata": {},
   "outputs": [],
   "source": [
    "# load data\n",
    "df_test = pd.read_csv('../data/GiveMeSomeCredit-testing.csv')\n",
    "df_test = df_test.drop([\"Unnamed: 0\"], axis=1)\n",
    "\n",
    "# impute\n",
    "columns = df_test.columns\n",
    "index = df_test.index    \n",
    "df_test = pd.DataFrame(imputer.transform(df_test))\n",
    "df_test.columns = columns\n",
    "df_test.index = index\n",
    "\n",
    "# apply new feature\n",
    "df_test[\"PastDueSevereness\"] = df_test.apply(f, axis=1)\n",
    "\n",
    "# drop\n",
    "df_test = df_test.drop([\"NumberOfTime30-59DaysPastDueNotWorse\", \"NumberOfTime30-59DaysPastDueNotWorse\", \"NumberOfTime30-59DaysPastDueNotWorse\"], axis=1)\n",
    "\n",
    "# scale\n",
    "df_test[[\n",
    "    'age',\n",
    "    'NumberOfDependents',\n",
    "    'MonthlyIncome',\n",
    "    'DebtRatio', \n",
    "    'RevolvingUtilizationOfUnsecuredLines', \n",
    "    'NumberOfOpenCreditLinesAndLoans', \n",
    "    'NumberRealEstateLoansOrLines'\n",
    "]] = scaler.transform(\n",
    "    df_test[[\n",
    "        'age',\n",
    "        'NumberOfDependents',\n",
    "        'MonthlyIncome',\n",
    "        'DebtRatio', \n",
    "        'RevolvingUtilizationOfUnsecuredLines', \n",
    "        'NumberOfOpenCreditLinesAndLoans', \n",
    "        'NumberRealEstateLoansOrLines'\n",
    "    ]])"
   ]
  },
  {
   "cell_type": "code",
   "execution_count": 25,
   "id": "4391986d",
   "metadata": {},
   "outputs": [],
   "source": [
    "X_train = df[[\n",
    "    \"RevolvingUtilizationOfUnsecuredLines\",\n",
    "    \"age\",\t\n",
    "    \"DebtRatio\",\t\n",
    "    \"MonthlyIncome\",\t\n",
    "    \"NumberOfOpenCreditLinesAndLoans\",\t\n",
    "    \"NumberRealEstateLoansOrLines\", \n",
    "    \"NumberOfDependents\", \t\n",
    "    \"PastDueSevereness\"\n",
    "]]\n",
    "\n",
    "y_train = df[\"SeriousDlqin2yrs\"]\n",
    "\n",
    "X_test = df_test[[\n",
    "    \"RevolvingUtilizationOfUnsecuredLines\",\n",
    "    \"age\",\t\n",
    "    \"DebtRatio\",\t\n",
    "    \"MonthlyIncome\",\t\n",
    "    \"NumberOfOpenCreditLinesAndLoans\",\t\n",
    "    \"NumberRealEstateLoansOrLines\", \n",
    "    \"NumberOfDependents\", \t\n",
    "    \"PastDueSevereness\"\n",
    "]]\n",
    "\n",
    "y_test = df_test[\"SeriousDlqin2yrs\"]"
   ]
  },
  {
   "cell_type": "markdown",
   "id": "2da4ae19",
   "metadata": {},
   "source": [
    "### Baseline logistic regression model"
   ]
  },
  {
   "cell_type": "code",
   "execution_count": 26,
   "id": "36ee7677",
   "metadata": {},
   "outputs": [
    {
     "name": "stdout",
     "output_type": "stream",
     "text": [
      "accuracy=0.9357479387514723, precision=0.471047227926078, recall=0.13357400722021662, f1=0.20812919615314826\n"
     ]
    }
   ],
   "source": [
    "logreg = LogisticRegression()\n",
    "\n",
    "logreg.fit(X_train, y=y_train)\n",
    "\n",
    "y_pred = logreg.predict(X_train)\n",
    "\n",
    "accuracy = accuracy_score(y_train, y_pred)\n",
    "precision = precision_score(y_train, y_pred)\n",
    "recall = recall_score(y_train, y_pred)\n",
    "f1 = f1_score(y_train, y_pred)\n",
    "\n",
    "print(f\"{accuracy=}, {precision=}, {recall=}, {f1=}\")"
   ]
  },
  {
   "cell_type": "markdown",
   "id": "0a47f410",
   "metadata": {},
   "source": [
    "We can see very low recall rate, it stems from class imbalance. Lets try to make a model with \"balanced\" class_weight parameter in an attempt to tackle class imbalance."
   ]
  },
  {
   "cell_type": "code",
   "execution_count": 27,
   "id": "d20cac9b",
   "metadata": {},
   "outputs": [
    {
     "name": "stdout",
     "output_type": "stream",
     "text": [
      "accuracy=0.7970995288574794, precision=0.2017353579175705, recall=0.7472924187725631, f1=0.31770472323992477\n"
     ]
    }
   ],
   "source": [
    "logreg = LogisticRegression(class_weight=\"balanced\")\n",
    "\n",
    "logreg.fit(X_train, y=y_train)\n",
    "\n",
    "y_pred = logreg.predict(X_train)\n",
    "\n",
    "accuracy = accuracy_score(y_train, y_pred)\n",
    "precision = precision_score(y_train, y_pred)\n",
    "recall = recall_score(y_train, y_pred)\n",
    "f1 = f1_score(y_train, y_pred)\n",
    "\n",
    "print(f\"{accuracy=}, {precision=}, {recall=}, {f1=}\")"
   ]
  },
  {
   "cell_type": "markdown",
   "id": "68152bc7",
   "metadata": {},
   "source": [
    "With balanced class weights we have much more restrictive model. Recall is significantly higher while precision is halved. F1 score still remains quite low."
   ]
  }
 ],
 "metadata": {
  "kernelspec": {
   "display_name": ".venv",
   "language": "python",
   "name": "python3"
  },
  "language_info": {
   "codemirror_mode": {
    "name": "ipython",
    "version": 3
   },
   "file_extension": ".py",
   "mimetype": "text/x-python",
   "name": "python",
   "nbconvert_exporter": "python",
   "pygments_lexer": "ipython3",
   "version": "3.12.9"
  }
 },
 "nbformat": 4,
 "nbformat_minor": 5
}
