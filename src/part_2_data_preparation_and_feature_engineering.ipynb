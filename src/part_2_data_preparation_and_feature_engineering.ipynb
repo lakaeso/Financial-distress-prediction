{
 "cells": [
  {
   "cell_type": "code",
   "execution_count": 10,
   "metadata": {},
   "outputs": [],
   "source": [
    "import pandas as pd\n",
    "\n",
    "import matplotlib.pyplot as plt\n",
    "\n",
    "import seaborn as sns\n",
    "\n",
    "import numpy as np\n",
    "\n",
    "from scipy.stats import skew\n",
    "\n",
    "from sklearn.preprocessing import StandardScaler, MinMaxScaler\n",
    "from sklearn.model_selection import train_test_split\n",
    "from sklearn.tree import DecisionTreeClassifier\n",
    "from sklearn.metrics import accuracy_score, classification_report\n",
    "from sklearn.neighbors import KNeighborsClassifier\n",
    "from sklearn.ensemble import RandomForestClassifier, GradientBoostingClassifier\n",
    "from sklearn.linear_model import LogisticRegression\n",
    "from sklearn.svm import SVC\n",
    "from sklearn.impute import SimpleImputer, KNNImputer\n",
    "from sklearn.pipeline import Pipeline\n",
    "from sklearn.utils import compute_sample_weight\n",
    "\n",
    "import statsmodels\n",
    "import statsmodels.api\n",
    "\n",
    "\n",
    "import pickle\n",
    "\n",
    "from utils import remove_top_quantile"
   ]
  },
  {
   "cell_type": "code",
   "execution_count": 11,
   "metadata": {},
   "outputs": [
    {
     "data": {
      "text/html": [
       "<div>\n",
       "<style scoped>\n",
       "    .dataframe tbody tr th:only-of-type {\n",
       "        vertical-align: middle;\n",
       "    }\n",
       "\n",
       "    .dataframe tbody tr th {\n",
       "        vertical-align: top;\n",
       "    }\n",
       "\n",
       "    .dataframe thead th {\n",
       "        text-align: right;\n",
       "    }\n",
       "</style>\n",
       "<table border=\"1\" class=\"dataframe\">\n",
       "  <thead>\n",
       "    <tr style=\"text-align: right;\">\n",
       "      <th></th>\n",
       "      <th>SeriousDlqin2yrs</th>\n",
       "      <th>RevolvingUtilizationOfUnsecuredLines</th>\n",
       "      <th>age</th>\n",
       "      <th>NumberOfTime30-59DaysPastDueNotWorse</th>\n",
       "      <th>DebtRatio</th>\n",
       "      <th>MonthlyIncome</th>\n",
       "      <th>NumberOfOpenCreditLinesAndLoans</th>\n",
       "      <th>NumberOfTimes90DaysLate</th>\n",
       "      <th>NumberRealEstateLoansOrLines</th>\n",
       "      <th>NumberOfTime60-89DaysPastDueNotWorse</th>\n",
       "      <th>NumberOfDependents</th>\n",
       "    </tr>\n",
       "  </thead>\n",
       "  <tbody>\n",
       "    <tr>\n",
       "      <th>0</th>\n",
       "      <td>1</td>\n",
       "      <td>0.766127</td>\n",
       "      <td>45</td>\n",
       "      <td>2</td>\n",
       "      <td>0.802982</td>\n",
       "      <td>9120.0</td>\n",
       "      <td>13</td>\n",
       "      <td>0</td>\n",
       "      <td>6</td>\n",
       "      <td>0</td>\n",
       "      <td>2.0</td>\n",
       "    </tr>\n",
       "    <tr>\n",
       "      <th>1</th>\n",
       "      <td>0</td>\n",
       "      <td>0.957151</td>\n",
       "      <td>40</td>\n",
       "      <td>0</td>\n",
       "      <td>0.121876</td>\n",
       "      <td>2600.0</td>\n",
       "      <td>4</td>\n",
       "      <td>0</td>\n",
       "      <td>0</td>\n",
       "      <td>0</td>\n",
       "      <td>1.0</td>\n",
       "    </tr>\n",
       "    <tr>\n",
       "      <th>2</th>\n",
       "      <td>0</td>\n",
       "      <td>0.658180</td>\n",
       "      <td>38</td>\n",
       "      <td>1</td>\n",
       "      <td>0.085113</td>\n",
       "      <td>3042.0</td>\n",
       "      <td>2</td>\n",
       "      <td>1</td>\n",
       "      <td>0</td>\n",
       "      <td>0</td>\n",
       "      <td>0.0</td>\n",
       "    </tr>\n",
       "    <tr>\n",
       "      <th>3</th>\n",
       "      <td>0</td>\n",
       "      <td>0.233810</td>\n",
       "      <td>30</td>\n",
       "      <td>0</td>\n",
       "      <td>0.036050</td>\n",
       "      <td>3300.0</td>\n",
       "      <td>5</td>\n",
       "      <td>0</td>\n",
       "      <td>0</td>\n",
       "      <td>0</td>\n",
       "      <td>0.0</td>\n",
       "    </tr>\n",
       "    <tr>\n",
       "      <th>4</th>\n",
       "      <td>0</td>\n",
       "      <td>0.907239</td>\n",
       "      <td>49</td>\n",
       "      <td>1</td>\n",
       "      <td>0.024926</td>\n",
       "      <td>63588.0</td>\n",
       "      <td>7</td>\n",
       "      <td>0</td>\n",
       "      <td>1</td>\n",
       "      <td>0</td>\n",
       "      <td>0.0</td>\n",
       "    </tr>\n",
       "  </tbody>\n",
       "</table>\n",
       "</div>"
      ],
      "text/plain": [
       "   SeriousDlqin2yrs  RevolvingUtilizationOfUnsecuredLines  age  \\\n",
       "0                 1                              0.766127   45   \n",
       "1                 0                              0.957151   40   \n",
       "2                 0                              0.658180   38   \n",
       "3                 0                              0.233810   30   \n",
       "4                 0                              0.907239   49   \n",
       "\n",
       "   NumberOfTime30-59DaysPastDueNotWorse  DebtRatio  MonthlyIncome  \\\n",
       "0                                     2   0.802982         9120.0   \n",
       "1                                     0   0.121876         2600.0   \n",
       "2                                     1   0.085113         3042.0   \n",
       "3                                     0   0.036050         3300.0   \n",
       "4                                     1   0.024926        63588.0   \n",
       "\n",
       "   NumberOfOpenCreditLinesAndLoans  NumberOfTimes90DaysLate  \\\n",
       "0                               13                        0   \n",
       "1                                4                        0   \n",
       "2                                2                        1   \n",
       "3                                5                        0   \n",
       "4                                7                        0   \n",
       "\n",
       "   NumberRealEstateLoansOrLines  NumberOfTime60-89DaysPastDueNotWorse  \\\n",
       "0                             6                                     0   \n",
       "1                             0                                     0   \n",
       "2                             0                                     0   \n",
       "3                             0                                     0   \n",
       "4                             1                                     0   \n",
       "\n",
       "   NumberOfDependents  \n",
       "0                 2.0  \n",
       "1                 1.0  \n",
       "2                 0.0  \n",
       "3                 0.0  \n",
       "4                 0.0  "
      ]
     },
     "execution_count": 11,
     "metadata": {},
     "output_type": "execute_result"
    }
   ],
   "source": [
    "df = pd.read_csv('../data/GiveMeSomeCredit-training.csv')\n",
    "df = df.drop([\"Unnamed: 0\"], axis=1)\n",
    "\n",
    "df.head()"
   ]
  },
  {
   "cell_type": "markdown",
   "metadata": {},
   "source": [
    "## Imputing\n",
    "We are going to handle missing values with a median imputing strategy. Observe missing  alues in MonthlyIncome and NumberOfDependents."
   ]
  },
  {
   "cell_type": "code",
   "execution_count": 12,
   "metadata": {},
   "outputs": [
    {
     "name": "stdout",
     "output_type": "stream",
     "text": [
      "<class 'pandas.core.frame.DataFrame'>\n",
      "RangeIndex: 139999 entries, 0 to 139998\n",
      "Data columns (total 11 columns):\n",
      " #   Column                                Non-Null Count   Dtype  \n",
      "---  ------                                --------------   -----  \n",
      " 0   SeriousDlqin2yrs                      139999 non-null  int64  \n",
      " 1   RevolvingUtilizationOfUnsecuredLines  139999 non-null  float64\n",
      " 2   age                                   139999 non-null  int64  \n",
      " 3   NumberOfTime30-59DaysPastDueNotWorse  139999 non-null  int64  \n",
      " 4   DebtRatio                             139999 non-null  float64\n",
      " 5   MonthlyIncome                         112208 non-null  float64\n",
      " 6   NumberOfOpenCreditLinesAndLoans       139999 non-null  int64  \n",
      " 7   NumberOfTimes90DaysLate               139999 non-null  int64  \n",
      " 8   NumberRealEstateLoansOrLines          139999 non-null  int64  \n",
      " 9   NumberOfTime60-89DaysPastDueNotWorse  139999 non-null  int64  \n",
      " 10  NumberOfDependents                    136352 non-null  float64\n",
      "dtypes: float64(4), int64(7)\n",
      "memory usage: 11.7 MB\n",
      "None\n"
     ]
    }
   ],
   "source": [
    "print(df.info())"
   ]
  },
  {
   "cell_type": "code",
   "execution_count": 13,
   "metadata": {},
   "outputs": [],
   "source": [
    "imputer = SimpleImputer(strategy='median')\n",
    "\n",
    "columns = df.columns\n",
    "index = df.index\n",
    "df = pd.DataFrame(imputer.fit_transform(df))\n",
    "df.columns = columns\n",
    "df.index = index"
   ]
  },
  {
   "cell_type": "markdown",
   "metadata": {},
   "source": [
    "## Outlier removal\n",
    "\n",
    "First we have to check skewness of data and then trim ouliers."
   ]
  },
  {
   "cell_type": "code",
   "execution_count": 14,
   "metadata": {},
   "outputs": [
    {
     "name": "stdout",
     "output_type": "stream",
     "text": [
      "SeriousDlqin2yrs 3.4811453075385983\n",
      "RevolvingUtilizationOfUnsecuredLines 104.61629839455564\n",
      "age 0.1881202035562613\n",
      "NumberOfTime30-59DaysPastDueNotWorse 22.607004311580404\n",
      "DebtRatio 95.22217899338378\n",
      "MonthlyIncome 124.35170894120087\n",
      "NumberOfOpenCreditLinesAndLoans 1.2044774779464495\n",
      "NumberOfTimes90DaysLate 23.09448756193742\n",
      "NumberRealEstateLoansOrLines 3.5575059805957148\n",
      "NumberOfTime60-89DaysPastDueNotWorse 23.335794978298782\n",
      "NumberOfDependents 1.62471641207594\n"
     ]
    },
    {
     "data": {
      "image/png": "[encoded data removed]",
      "text/plain": [
       "<Figure size 500x500 with 1 Axes>"
      ]
     },
     "metadata": {},
     "output_type": "display_data"
    }
   ],
   "source": [
    "columns = df.columns.to_list()\n",
    "skew_values = skew(df)\n",
    "\n",
    "for c, v in zip(columns, skew_values):\n",
    "    print(c, v)\n",
    "\n",
    "\n",
    "f, axes = plt.subplots(nrows=1, ncols=1, figsize=(5, 5))\n",
    "f.suptitle('Skewness', fontsize=16)\n",
    "\n",
    "sns.scatterplot(x=columns, y=skew_values)\n",
    "\n",
    "plt.tight_layout()\n",
    "plt.show()"
   ]
  },
  {
   "cell_type": "markdown",
   "metadata": {},
   "source": [
    "We can observe big imbalance in variables denoting number of times customer had late payments. We are not going to trim those variables as they might be of an importance later.\n",
    "\n",
    "Instead, we are going to trim variables RevolvingUtilizationOfUnsecuredLines, DebtRatio and MonthlyIncome, as per notebook part 1 EDA."
   ]
  },
  {
   "cell_type": "code",
   "execution_count": 15,
   "metadata": {},
   "outputs": [],
   "source": [
    "df = remove_top_quantile(df, \"RevolvingUtilizationOfUnsecuredLines\", 0.95)\n",
    "df = remove_top_quantile(df, \"DebtRatio\", 0.95)\n",
    "df = remove_top_quantile(df, \"MonthlyIncome\", 0.95)"
   ]
  },
  {
   "cell_type": "code",
   "execution_count": 16,
   "metadata": {},
   "outputs": [
    {
     "name": "stdout",
     "output_type": "stream",
     "text": [
      "SeriousDlqin2yrs 4.092720481967651\n",
      "RevolvingUtilizationOfUnsecuredLines 1.155294403699539\n",
      "age 0.18891158092506696\n",
      "NumberOfTime30-59DaysPastDueNotWorse 4.478333645202806\n",
      "DebtRatio 3.289872305465588\n",
      "MonthlyIncome 0.5759476035623421\n",
      "NumberOfOpenCreditLinesAndLoans 1.2967782247565773\n",
      "NumberOfTimes90DaysLate 11.747515713012048\n",
      "NumberRealEstateLoansOrLines 3.1136603103599936\n",
      "NumberOfTime60-89DaysPastDueNotWorse 8.45636028605272\n",
      "NumberOfDependents 1.634250602549257\n"
     ]
    }
   ],
   "source": [
    "columns = df.columns.to_list()\n",
    "skew_values = skew(df)\n",
    "\n",
    "for c, v in zip(columns, skew_values):\n",
    "    print(c, v)"
   ]
  },
  {
   "cell_type": "markdown",
   "metadata": {},
   "source": [
    "## Feature engineering\n",
    "Variables NumberOfTime30-59DaysPastDueNotWorse, NumberOfTime60-89DaysPastDueNotWorse and NumberOfTimes90DaysLate will be converted to a single categorical variable indicating level of \"lateness\". "
   ]
  },
  {
   "cell_type": "code",
   "execution_count": 17,
   "metadata": {},
   "outputs": [],
   "source": [
    "# todo\n",
    "def f(a):\n",
    "    # never late\n",
    "    if a[\"NumberOfTime30-59DaysPastDueNotWorse\"] == 0 and \\\n",
    "        a[\"NumberOfTime60-89DaysPastDueNotWorse\"] == 0 and \\\n",
    "        a[\"NumberOfTimes90DaysLate\"] == 0:\n",
    "            return 0\n",
    "    # 30-59 late\n",
    "    if a[\"NumberOfTime30-59DaysPastDueNotWorse\"] != 0 and \\\n",
    "        a[\"NumberOfTime60-89DaysPastDueNotWorse\"] == 0 and \\\n",
    "        a[\"NumberOfTimes90DaysLate\"] == 0:\n",
    "            return 1\n",
    "    # 60-89 late\n",
    "    if a[\"NumberOfTime30-59DaysPastDueNotWorse\"] != 0 and \\\n",
    "        a[\"NumberOfTime60-89DaysPastDueNotWorse\"] != 0 and \\\n",
    "        a[\"NumberOfTimes90DaysLate\"] == 0:\n",
    "            return 2\n",
    "    # 90+ late\n",
    "    return 3\n",
    "\n",
    "\n",
    "df[\"PastDueSevereness\"] = df.apply(f, axis=1)"
   ]
  },
  {
   "cell_type": "markdown",
   "metadata": {},
   "source": [
    "## Scaling\n",
    "Data will be scaled using a standard scaler."
   ]
  },
  {
   "cell_type": "code",
   "execution_count": 18,
   "metadata": {},
   "outputs": [],
   "source": [
    "scaler = StandardScaler()\n",
    "df[['age',\n",
    "    'NumberOfDependents',\n",
    "    'MonthlyIncome',\n",
    "    'DebtRatio', \n",
    "    'RevolvingUtilizationOfUnsecuredLines', \n",
    "    'NumberOfOpenCreditLinesAndLoans', \n",
    "    'NumberRealEstateLoansOrLines'\n",
    "]] = scaler.fit_transform(\n",
    "    df[['age',\n",
    "        'NumberOfDependents',\n",
    "        'MonthlyIncome',\n",
    "        'DebtRatio', \n",
    "        'RevolvingUtilizationOfUnsecuredLines', \n",
    "        'NumberOfOpenCreditLinesAndLoans', \n",
    "        'NumberRealEstateLoansOrLines'\n",
    "    ]])"
   ]
  }
 ],
 "metadata": {
  "kernelspec": {
   "display_name": ".venv",
   "language": "python",
   "name": "python3"
  },
  "language_info": {
   "codemirror_mode": {
    "name": "ipython",
    "version": 3
   },
   "file_extension": ".py",
   "mimetype": "text/x-python",
   "name": "python",
   "nbconvert_exporter": "python",
   "pygments_lexer": "ipython3",
   "version": "3.12.9"
  }
 },
 "nbformat": 4,
 "nbformat_minor": 2
}
