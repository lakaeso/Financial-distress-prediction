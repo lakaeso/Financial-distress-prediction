{
 "cells": [
  {
   "cell_type": "code",
   "execution_count": null,
   "metadata": {},
   "outputs": [],
   "source": [
    "!pip install pandas\n",
    "!pip install matplotlib\n",
    "!pip install seaborn\n",
    "!pip install numpy\n",
    "!pip install scipy\n",
    "!pip install scikit-learn\n",
    "!pip install statsmodels"
   ]
  },
  {
   "cell_type": "code",
   "execution_count": null,
   "metadata": {},
   "outputs": [],
   "source": [
    "import pandas as pd\n",
    "\n",
    "import matplotlib.pyplot as plt\n",
    "\n",
    "import seaborn as sns\n",
    "\n",
    "import numpy as np\n",
    "\n",
    "from scipy.stats import skew\n",
    "\n",
    "import scipy\n",
    "\n",
    "from sklearn.decomposition import PCA\n",
    "from sklearn.impute import SimpleImputer\n",
    "from sklearn.preprocessing import MinMaxScaler\n",
    "\n",
    "import statsmodels\n",
    "import statsmodels.api\n",
    "from statsmodels.stats.diagnostic import kstest_normal\n",
    "from statsmodels.stats.nonparametric import rank_compare_2indep\n",
    "\n",
    "from utils import remove_top_quantile"
   ]
  },
  {
   "cell_type": "code",
   "execution_count": null,
   "metadata": {},
   "outputs": [],
   "source": [
    "df = pd.read_csv('../data/GiveMeSomeCredit-training.csv')\n",
    "df.info()"
   ]
  },
  {
   "cell_type": "code",
   "execution_count": null,
   "metadata": {},
   "outputs": [],
   "source": [
    "df = df.drop([\"Unnamed: 0\"], axis=1)"
   ]
  },
  {
   "cell_type": "code",
   "execution_count": null,
   "metadata": {},
   "outputs": [],
   "source": [
    "df.columns.to_list()"
   ]
  },
  {
   "cell_type": "code",
   "execution_count": null,
   "metadata": {},
   "outputs": [],
   "source": [
    "df.describe()"
   ]
  },
  {
   "cell_type": "code",
   "execution_count": null,
   "metadata": {},
   "outputs": [],
   "source": [
    "df.head()"
   ]
  },
  {
   "cell_type": "markdown",
   "metadata": {},
   "source": [
    "## EDA start"
   ]
  },
  {
   "cell_type": "markdown",
   "metadata": {},
   "source": [
    "### Target variable SeriousDlqin2years\n",
    "\n",
    "We can see we are dealing with significant target feature imbalance in traning data (14:1)."
   ]
  },
  {
   "cell_type": "code",
   "execution_count": null,
   "metadata": {},
   "outputs": [],
   "source": [
    "df[\"SeriousDlqin2yrs\"].value_counts()"
   ]
  },
  {
   "cell_type": "markdown",
   "metadata": {},
   "source": [
    "### Feature \"RevolvingUtilizationOfUnsecuredLines\"\n",
    "\n",
    "Huge outliers present."
   ]
  },
  {
   "cell_type": "code",
   "execution_count": null,
   "metadata": {},
   "outputs": [],
   "source": [
    "f, axes = plt.subplots(nrows=2, ncols=1, figsize=(7, 9))\n",
    "f.suptitle('RevolvingUtilizationOfUnsecuredLines', fontsize=16)\n",
    "\n",
    "sns.boxplot(df[\"RevolvingUtilizationOfUnsecuredLines\"], ax=axes[0])\n",
    "sns.histplot(df[\"RevolvingUtilizationOfUnsecuredLines\"], bins=50, ax=axes[1])\n",
    "\n",
    "plt.tight_layout()\n",
    "plt.show()\n"
   ]
  },
  {
   "cell_type": "markdown",
   "metadata": {},
   "source": [
    "### Age"
   ]
  },
  {
   "cell_type": "code",
   "execution_count": null,
   "metadata": {},
   "outputs": [],
   "source": [
    "f, axes = plt.subplots(nrows=2, ncols=1, figsize=(7, 9))\n",
    "f.suptitle('Age', fontsize=16)\n",
    "\n",
    "sns.boxplot(df[\"age\"], ax=axes[0])\n",
    "sns.histplot(df[\"age\"], bins=50, ax=axes[1])\n",
    "\n",
    "plt.tight_layout()\n",
    "plt.show()"
   ]
  },
  {
   "cell_type": "markdown",
   "metadata": {},
   "source": [
    "### DebtRatio\n",
    "\n",
    "Massive outliers again. We will have to remove them later."
   ]
  },
  {
   "cell_type": "code",
   "execution_count": null,
   "metadata": {},
   "outputs": [],
   "source": [
    "f, axes = plt.subplots(nrows=2, ncols=1, figsize=(7, 9))\n",
    "f.suptitle('DebtRatio', fontsize=16)\n",
    "\n",
    "sns.boxplot(df[\"DebtRatio\"], ax=axes[0])\n",
    "sns.histplot(df[\"DebtRatio\"], bins=50, ax=axes[1])\n",
    "\n",
    "plt.tight_layout()\n",
    "plt.show()"
   ]
  },
  {
   "cell_type": "markdown",
   "metadata": {},
   "source": [
    "### MonthlyIncome"
   ]
  },
  {
   "cell_type": "code",
   "execution_count": null,
   "metadata": {},
   "outputs": [],
   "source": [
    "f, axes = plt.subplots(nrows=2, ncols=1, figsize=(7, 9))\n",
    "f.suptitle('MonthlyIncome', fontsize=16)\n",
    "\n",
    "sns.boxplot(df[\"MonthlyIncome\"], ax=axes[0])\n",
    "sns.histplot(df[\"MonthlyIncome\"], bins=50, ax=axes[1])\n",
    "\n",
    "plt.tight_layout()\n",
    "plt.show()"
   ]
  },
  {
   "cell_type": "markdown",
   "metadata": {},
   "source": [
    "### NumberOfOpenCreditLinesAndLoans"
   ]
  },
  {
   "cell_type": "code",
   "execution_count": null,
   "metadata": {},
   "outputs": [],
   "source": [
    "f, axes = plt.subplots(nrows=2, ncols=1, figsize=(7, 9))\n",
    "f.suptitle('NumberOfOpenCreditLinesAndLoans', fontsize=16)\n",
    "\n",
    "sns.boxplot(df[\"NumberOfOpenCreditLinesAndLoans\"], ax=axes[0])\n",
    "sns.histplot(df[\"NumberOfOpenCreditLinesAndLoans\"], bins=50, ax=axes[1])\n",
    "\n",
    "plt.tight_layout()\n",
    "plt.show()"
   ]
  },
  {
   "cell_type": "markdown",
   "metadata": {},
   "source": [
    "### NumberRealEstateLoansOrLines"
   ]
  },
  {
   "cell_type": "code",
   "execution_count": null,
   "metadata": {},
   "outputs": [],
   "source": [
    "f, axes = plt.subplots(nrows=2, ncols=1, figsize=(7, 9))\n",
    "f.suptitle('NumberRealEstateLoansOrLines', fontsize=16)\n",
    "\n",
    "sns.boxplot(df[\"NumberRealEstateLoansOrLines\"], ax=axes[0])\n",
    "sns.histplot(df[\"NumberRealEstateLoansOrLines\"], bins=50, ax=axes[1])\n",
    "\n",
    "plt.tight_layout()\n",
    "plt.show()"
   ]
  },
  {
   "cell_type": "markdown",
   "metadata": {},
   "source": [
    "### NumberOfDependants"
   ]
  },
  {
   "cell_type": "code",
   "execution_count": null,
   "metadata": {},
   "outputs": [],
   "source": [
    "f, axes = plt.subplots(nrows=2, ncols=1, figsize=(7, 9))\n",
    "f.suptitle('NumberOfDependents', fontsize=16)\n",
    "\n",
    "sns.boxplot(df[\"NumberOfDependents\"], ax=axes[0])\n",
    "sns.histplot(df[\"NumberOfDependents\"], bins=50, ax=axes[1])\n",
    "\n",
    "plt.tight_layout()\n",
    "plt.show()"
   ]
  },
  {
   "cell_type": "markdown",
   "metadata": {},
   "source": [
    "## Outlier removal\n",
    "\n",
    "Since large outliers are present, I am going to trim them. For more info about outliers, see notebook part 2."
   ]
  },
  {
   "cell_type": "code",
   "execution_count": null,
   "metadata": {},
   "outputs": [],
   "source": [
    "df = remove_top_quantile(df, \"RevolvingUtilizationOfUnsecuredLines\", 0.95)\n",
    "df = remove_top_quantile(df, \"DebtRatio\", 0.95)\n",
    "df = remove_top_quantile(df, \"MonthlyIncome\", 0.95)"
   ]
  },
  {
   "cell_type": "markdown",
   "metadata": {},
   "source": [
    "## Heatmap and correlation"
   ]
  },
  {
   "cell_type": "code",
   "execution_count": null,
   "metadata": {},
   "outputs": [],
   "source": [
    "sns.heatmap(df.corr())\n",
    "df.corr()"
   ]
  },
  {
   "cell_type": "markdown",
   "metadata": {},
   "source": [
    "## Hypothesis testing\n",
    "\n",
    "### Debt ratio t-test\n",
    "\n",
    "First lets test hypothesis that defaulted and non defaulted customer have the same debt ratio.\n",
    "\n",
    "H0: Defaulted and non defaulted customers have the same debt ratio (mean).\n",
    "\n",
    "H1: Defaulted and non defaulted customer have different debt ratio (mean).\n",
    "\n",
    "After conducting U-test seen below, we can reject H0 in favor of H1 at level of significance 5%."
   ]
  },
  {
   "cell_type": "code",
   "execution_count": null,
   "metadata": {},
   "outputs": [],
   "source": [
    "test_for_normality = kstest_normal(df.DebtRatio)\n",
    "\n",
    "print(f\"{test_for_normality=}\")"
   ]
  },
  {
   "cell_type": "code",
   "execution_count": null,
   "metadata": {},
   "outputs": [],
   "source": [
    "debt_ratio_nondefault = df[df['SeriousDlqin2yrs'] == 0].DebtRatio\n",
    "debt_ratio_default = df[df['SeriousDlqin2yrs'] == 1].DebtRatio\n",
    "\n",
    "tstat, pvalue = rank_compare_2indep(debt_ratio_nondefault, debt_ratio_default)\n",
    "\n",
    "print(f'{tstat=}, {pvalue=}')"
   ]
  },
  {
   "cell_type": "code",
   "execution_count": null,
   "metadata": {},
   "outputs": [],
   "source": [
    "df_plot = df[[\"DebtRatio\", \"SeriousDlqin2yrs\"]]\n",
    "\n",
    "sns.boxplot(y=\"DebtRatio\", x=\"SeriousDlqin2yrs\", hue=\"SeriousDlqin2yrs\", data=df_plot)\n",
    "\n",
    "plt.show()"
   ]
  },
  {
   "cell_type": "markdown",
   "metadata": {},
   "source": [
    "### Monthly income t-test\n",
    "\n",
    "Next up we can test hypothesis that defaulted and non defaulted customers have the same monthly income.\n",
    "\n",
    "First we perform KS-test for normality."
   ]
  },
  {
   "cell_type": "code",
   "execution_count": null,
   "metadata": {},
   "outputs": [],
   "source": [
    "test_for_normality = kstest_normal(df.MonthlyIncome)\n",
    "\n",
    "print(f\"{test_for_normality=}\")"
   ]
  },
  {
   "cell_type": "markdown",
   "metadata": {},
   "source": [
    "We can reject hypothesis that distribution is normal or normal-like.\n",
    "\n",
    "H0: Defaulted and non defaulted customers have the same montly income.\n",
    "\n",
    "H1: Non defaulted customers have higher income than defaulted customers.\n",
    "\n",
    "After Mann Whitney U-test has been conducted, we can reject H0 in favor of H1."
   ]
  },
  {
   "cell_type": "code",
   "execution_count": null,
   "metadata": {},
   "outputs": [],
   "source": [
    "monthly_income_nondefault = df[df['SeriousDlqin2yrs'] == 0].MonthlyIncome\n",
    "monthly_income_default = df[df['SeriousDlqin2yrs'] == 1].MonthlyIncome\n",
    "\n",
    "#tstat, pvalue, deg = statsmodels.stats.weightstats.ttest_ind(monthly_income_nondefault, monthly_income_default, alternative='larger')\n",
    "tstat, pvalue = rank_compare_2indep(monthly_income_nondefault, monthly_income_default)\n",
    "\n",
    "print(f'{tstat=}, {pvalue=}')"
   ]
  },
  {
   "cell_type": "code",
   "execution_count": null,
   "metadata": {},
   "outputs": [],
   "source": [
    "df_plot = df[[\"MonthlyIncome\", \"SeriousDlqin2yrs\"]]\n",
    "\n",
    "sns.boxplot(y=\"MonthlyIncome\", x=\"SeriousDlqin2yrs\", hue=\"SeriousDlqin2yrs\", data=df_plot)\n",
    "\n",
    "plt.show()"
   ]
  },
  {
   "cell_type": "markdown",
   "metadata": {},
   "source": [
    "### Number of opened credit lines and loans\n",
    "Next up we can test hypothesis that defaulted and non defaulted customers have the same number of opened credit lines and loans.\n",
    "\n",
    "H0: Defaulted and non defaulted customers have the same number of opened credit lines and loans.\n",
    "\n",
    "H1: Non defaulted customers don't have the same number of opened credit lines and loans.\n",
    "\n",
    "Based on the results of a U-test, we can reject H0 in favor of H1."
   ]
  },
  {
   "cell_type": "code",
   "execution_count": null,
   "metadata": {},
   "outputs": [],
   "source": [
    "test_for_normality = kstest_normal(df.NumberOfOpenCreditLinesAndLoans)\n",
    "\n",
    "print(f\"{test_for_normality=}\")"
   ]
  },
  {
   "cell_type": "code",
   "execution_count": null,
   "metadata": {},
   "outputs": [],
   "source": [
    "number_of_open_credit_lines_and_loans_nondefault = df[df['SeriousDlqin2yrs'] == 0].NumberOfOpenCreditLinesAndLoans\n",
    "number_of_open_credit_lines_and_loans_default = df[df['SeriousDlqin2yrs'] == 1].NumberOfOpenCreditLinesAndLoans\n",
    "\n",
    "tstat, pvalue = rank_compare_2indep(\n",
    "    number_of_open_credit_lines_and_loans_nondefault, \n",
    "    number_of_open_credit_lines_and_loans_default\n",
    ")\n",
    "\n",
    "print(f'{tstat=}, {pvalue=}')"
   ]
  },
  {
   "cell_type": "code",
   "execution_count": null,
   "metadata": {},
   "outputs": [],
   "source": [
    "df_plot = df[[\"NumberOfOpenCreditLinesAndLoans\", \"SeriousDlqin2yrs\"]]\n",
    "\n",
    "sns.boxplot(y=\"NumberOfOpenCreditLinesAndLoans\", x=\"SeriousDlqin2yrs\", hue=\"SeriousDlqin2yrs\", data=df_plot)\n",
    "\n",
    "plt.show()"
   ]
  },
  {
   "cell_type": "markdown",
   "metadata": {},
   "source": [
    "## PCA (analysis)\n",
    "\n",
    "Let's perform PCA analysis on current data."
   ]
  },
  {
   "cell_type": "code",
   "execution_count": null,
   "metadata": {},
   "outputs": [],
   "source": [
    "input_features = df[[\n",
    "    'RevolvingUtilizationOfUnsecuredLines',\n",
    "    'age',\n",
    "    'NumberOfTime30-59DaysPastDueNotWorse',\n",
    "    'DebtRatio',\n",
    "    'MonthlyIncome',\n",
    "    'NumberOfOpenCreditLinesAndLoans',\n",
    "    'NumberOfTimes90DaysLate',\n",
    "    'NumberRealEstateLoansOrLines',\n",
    "    'NumberOfTime60-89DaysPastDueNotWorse',\n",
    "    'NumberOfDependents'\n",
    "]]\n",
    "\n",
    "target_feature = df['SeriousDlqin2yrs']\n",
    "\n",
    "n_PCA_features = 10"
   ]
  },
  {
   "cell_type": "code",
   "execution_count": null,
   "metadata": {},
   "outputs": [],
   "source": [
    "imputer = SimpleImputer()\n",
    "input_features = imputer.fit_transform(input_features)"
   ]
  },
  {
   "cell_type": "code",
   "execution_count": null,
   "metadata": {},
   "outputs": [],
   "source": [
    "scaler = MinMaxScaler()\n",
    "input_features = scaler.fit_transform(input_features)"
   ]
  },
  {
   "cell_type": "markdown",
   "metadata": {},
   "source": [
    "5 PCA components will be calculated and their impact shown."
   ]
  },
  {
   "cell_type": "code",
   "execution_count": null,
   "metadata": {},
   "outputs": [],
   "source": [
    "pca = PCA(n_components=5)\n",
    "\n",
    "input_features = pca.fit_transform(input_features)\n",
    "\n",
    "input_features = pd.DataFrame(input_features, \n",
    "                              columns=[\n",
    "                                    \"COL_1\",\n",
    "                                    \"COL_2\",\n",
    "                                    \"COL_3\",\n",
    "                                    \"COL_4\",\n",
    "                                    \"COL_5\"\n",
    "                              ], \n",
    "                              index=df.index)"
   ]
  },
  {
   "cell_type": "code",
   "execution_count": null,
   "metadata": {},
   "outputs": [],
   "source": [
    "print(pca.explained_variance_ratio_)\n",
    "sns.barplot(pca.explained_variance_ratio_)"
   ]
  },
  {
   "cell_type": "code",
   "execution_count": null,
   "metadata": {},
   "outputs": [],
   "source": [
    "df_pca = pd.concat([input_features, target_feature], axis=1)\n",
    "\n",
    "df_pca.head()"
   ]
  },
  {
   "cell_type": "markdown",
   "metadata": {},
   "source": [
    "The following graph shows correlation between two most impactful PCA components and target variable."
   ]
  },
  {
   "cell_type": "code",
   "execution_count": null,
   "metadata": {},
   "outputs": [],
   "source": [
    "targets = [0, 1]\n",
    "colors = ['orange', 'blue']\n",
    "\n",
    "f, ax = plt.subplots(1, 1)\n",
    "\n",
    "for target, color in zip(targets,colors):\n",
    "    sns.scatterplot(\n",
    "        x = df_pca.loc[df_pca['SeriousDlqin2yrs'] == target, 'COL_1'], \n",
    "        y = df_pca.loc[df_pca['SeriousDlqin2yrs'] == target, 'COL_2'], \n",
    "        color = color,\n",
    "        ax = ax\n",
    "    )\n",
    "\n",
    "ax.legend(targets)\n",
    "ax.grid()\n",
    "plt.show()"
   ]
  }
 ],
 "metadata": {
  "kernelspec": {
   "display_name": ".venv",
   "language": "python",
   "name": "python3"
  },
  "language_info": {
   "codemirror_mode": {
    "name": "ipython",
    "version": 3
   },
   "file_extension": ".py",
   "mimetype": "text/x-python",
   "name": "python",
   "nbconvert_exporter": "python",
   "pygments_lexer": "ipython3",
   "version": "3.12.9"
  }
 },
 "nbformat": 4,
 "nbformat_minor": 2
}
